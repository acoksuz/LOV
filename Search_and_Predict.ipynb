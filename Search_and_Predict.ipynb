{
  "cells": [
    {
      "cell_type": "code",
      "execution_count": null,
      "metadata": {
        "colab": {
          "base_uri": "https://localhost:8080/",
          "height": 1000
        },
        "id": "4xT3eePg2uQj",
        "outputId": "d89ca57b-824b-407a-8bb5-d20d58d7c8b7"
      },
      "outputs": [
        {
          "output_type": "stream",
          "name": "stdout",
          "text": [
            "Requirement already satisfied: selenium in /usr/local/lib/python3.7/dist-packages (4.1.3)\n",
            "Requirement already satisfied: trio-websocket~=0.9 in /usr/local/lib/python3.7/dist-packages (from selenium) (0.9.2)\n",
            "Collecting urllib3[secure,socks]~=1.26\n",
            "  Using cached urllib3-1.26.9-py2.py3-none-any.whl (138 kB)\n",
            "Requirement already satisfied: trio~=0.17 in /usr/local/lib/python3.7/dist-packages (from selenium) (0.20.0)\n",
            "Requirement already satisfied: sniffio in /usr/local/lib/python3.7/dist-packages (from trio~=0.17->selenium) (1.2.0)\n",
            "Requirement already satisfied: attrs>=19.2.0 in /usr/local/lib/python3.7/dist-packages (from trio~=0.17->selenium) (21.4.0)\n",
            "Requirement already satisfied: idna in /usr/local/lib/python3.7/dist-packages (from trio~=0.17->selenium) (2.10)\n",
            "Requirement already satisfied: outcome in /usr/local/lib/python3.7/dist-packages (from trio~=0.17->selenium) (1.1.0)\n",
            "Requirement already satisfied: sortedcontainers in /usr/local/lib/python3.7/dist-packages (from trio~=0.17->selenium) (2.4.0)\n",
            "Requirement already satisfied: async-generator>=1.9 in /usr/local/lib/python3.7/dist-packages (from trio~=0.17->selenium) (1.10)\n",
            "Requirement already satisfied: wsproto>=0.14 in /usr/local/lib/python3.7/dist-packages (from trio-websocket~=0.9->selenium) (1.1.0)\n",
            "Requirement already satisfied: certifi in /usr/local/lib/python3.7/dist-packages (from urllib3[secure,socks]~=1.26->selenium) (2021.10.8)\n",
            "Requirement already satisfied: cryptography>=1.3.4 in /usr/local/lib/python3.7/dist-packages (from urllib3[secure,socks]~=1.26->selenium) (36.0.2)\n",
            "Requirement already satisfied: pyOpenSSL>=0.14 in /usr/local/lib/python3.7/dist-packages (from urllib3[secure,socks]~=1.26->selenium) (22.0.0)\n",
            "Requirement already satisfied: PySocks!=1.5.7,<2.0,>=1.5.6 in /usr/local/lib/python3.7/dist-packages (from urllib3[secure,socks]~=1.26->selenium) (1.7.1)\n",
            "Requirement already satisfied: cffi>=1.12 in /usr/local/lib/python3.7/dist-packages (from cryptography>=1.3.4->urllib3[secure,socks]~=1.26->selenium) (1.15.0)\n",
            "Requirement already satisfied: pycparser in /usr/local/lib/python3.7/dist-packages (from cffi>=1.12->cryptography>=1.3.4->urllib3[secure,socks]~=1.26->selenium) (2.21)\n",
            "Requirement already satisfied: h11<1,>=0.9.0 in /usr/local/lib/python3.7/dist-packages (from wsproto>=0.14->trio-websocket~=0.9->selenium) (0.13.0)\n",
            "Requirement already satisfied: typing-extensions in /usr/local/lib/python3.7/dist-packages (from h11<1,>=0.9.0->wsproto>=0.14->trio-websocket~=0.9->selenium) (4.1.1)\n",
            "Installing collected packages: urllib3\n",
            "  Attempting uninstall: urllib3\n",
            "    Found existing installation: urllib3 1.25.11\n",
            "    Uninstalling urllib3-1.25.11:\n",
            "      Successfully uninstalled urllib3-1.25.11\n",
            "\u001b[31mERROR: pip's dependency resolver does not currently take into account all the packages that are installed. This behaviour is the source of the following dependency conflicts.\n",
            "requests 2.23.0 requires urllib3!=1.25.0,!=1.25.1,<1.26,>=1.21.1, but you have urllib3 1.26.9 which is incompatible.\n",
            "datascience 0.10.6 requires folium==0.2.1, but you have folium 0.8.3 which is incompatible.\u001b[0m\n",
            "Successfully installed urllib3-1.26.9\n"
          ]
        },
        {
          "output_type": "display_data",
          "data": {
            "application/vnd.colab-display-data+json": {
              "pip_warning": {
                "packages": [
                  "urllib3"
                ]
              }
            }
          },
          "metadata": {}
        },
        {
          "output_type": "stream",
          "name": "stdout",
          "text": [
            "Ign:1 https://developer.download.nvidia.com/compute/cuda/repos/ubuntu1804/x86_64  InRelease\n",
            "Hit:2 https://cloud.r-project.org/bin/linux/ubuntu bionic-cran40/ InRelease\n",
            "Get:3 http://security.ubuntu.com/ubuntu bionic-security InRelease [88.7 kB]\n",
            "Hit:4 http://ppa.launchpad.net/c2d4u.team/c2d4u4.0+/ubuntu bionic InRelease\n",
            "Ign:5 https://developer.download.nvidia.com/compute/machine-learning/repos/ubuntu1804/x86_64  InRelease\n",
            "Hit:6 https://developer.download.nvidia.com/compute/cuda/repos/ubuntu1804/x86_64  Release\n",
            "Hit:7 https://developer.download.nvidia.com/compute/machine-learning/repos/ubuntu1804/x86_64  Release\n",
            "Hit:8 http://archive.ubuntu.com/ubuntu bionic InRelease\n",
            "Get:9 http://archive.ubuntu.com/ubuntu bionic-updates InRelease [88.7 kB]\n",
            "Hit:10 http://ppa.launchpad.net/cran/libgit2/ubuntu bionic InRelease\n",
            "Hit:11 http://ppa.launchpad.net/deadsnakes/ppa/ubuntu bionic InRelease\n",
            "Get:12 http://archive.ubuntu.com/ubuntu bionic-backports InRelease [74.6 kB]\n",
            "Hit:13 http://ppa.launchpad.net/graphics-drivers/ppa/ubuntu bionic InRelease\n",
            "Fetched 252 kB in 6s (41.3 kB/s)\n",
            "Reading package lists... Done\n",
            "Reading package lists... Done\n",
            "Building dependency tree       \n",
            "Reading state information... Done\n",
            "chromium-chromedriver is already the newest version (99.0.4844.84-0ubuntu0.18.04.1).\n",
            "0 upgraded, 0 newly installed, 0 to remove and 45 not upgraded.\n",
            "cp: '/usr/lib/chromium-browser/chromedriver' and '/usr/bin/chromedriver' are the same file\n",
            "Requirement already satisfied: requests in /usr/local/lib/python3.7/dist-packages (2.23.0)\n",
            "Requirement already satisfied: chardet<4,>=3.0.2 in /usr/local/lib/python3.7/dist-packages (from requests) (3.0.4)\n",
            "Requirement already satisfied: certifi>=2017.4.17 in /usr/local/lib/python3.7/dist-packages (from requests) (2021.10.8)\n",
            "Requirement already satisfied: idna<3,>=2.5 in /usr/local/lib/python3.7/dist-packages (from requests) (2.10)\n",
            "Collecting urllib3!=1.25.0,!=1.25.1,<1.26,>=1.21.1\n",
            "  Using cached urllib3-1.25.11-py2.py3-none-any.whl (127 kB)\n",
            "Installing collected packages: urllib3\n",
            "  Attempting uninstall: urllib3\n",
            "    Found existing installation: urllib3 1.26.9\n",
            "    Uninstalling urllib3-1.26.9:\n",
            "      Successfully uninstalled urllib3-1.26.9\n",
            "\u001b[31mERROR: pip's dependency resolver does not currently take into account all the packages that are installed. This behaviour is the source of the following dependency conflicts.\n",
            "selenium 4.1.3 requires urllib3[secure,socks]~=1.26, but you have urllib3 1.25.11 which is incompatible.\n",
            "datascience 0.10.6 requires folium==0.2.1, but you have folium 0.8.3 which is incompatible.\u001b[0m\n",
            "Successfully installed urllib3-1.25.11\n"
          ]
        },
        {
          "output_type": "display_data",
          "data": {
            "application/vnd.colab-display-data+json": {
              "pip_warning": {
                "packages": [
                  "urllib3"
                ]
              }
            }
          },
          "metadata": {}
        },
        {
          "output_type": "stream",
          "name": "stdout",
          "text": [
            "Requirement already satisfied: beautifulsoup4 in /usr/local/lib/python3.7/dist-packages (4.6.3)\n"
          ]
        },
        {
          "output_type": "stream",
          "name": "stderr",
          "text": [
            "/usr/local/lib/python3.7/dist-packages/ipykernel_launcher.py:25: DeprecationWarning: use options instead of chrome_options\n"
          ]
        }
      ],
      "source": [
        " #property\n",
        "!pip install selenium\n",
        "!apt-get update # to update ubuntu to correctly run apt install\n",
        "!apt install chromium-chromedriver\n",
        "!cp /usr/lib/chromium-browser/chromedriver /usr/bin\n",
        " #usphonebook\n",
        "!pip install requests\n",
        "!pip install beautifulsoup4\n",
        "\n",
        "#property\n",
        "import sys\n",
        "sys.path.insert(0,'/usr/lib/chromium-browser/chromedriver')\n",
        "\n",
        "from selenium import webdriver\n",
        "from selenium.webdriver.common.keys import Keys\n",
        "from selenium.webdriver.common.by import By\n",
        "import time\n",
        "from pprint import pprint\n",
        "options = webdriver.ChromeOptions()\n",
        "options.add_argument('--log-level=3')\n",
        "options.add_argument('--headless')\n",
        "options.add_argument('--no-sandbox')\n",
        "options.add_argument('--disable-dev-shm-usage')\n",
        "driver = webdriver.Chrome(executable_path = r\"chromedriver\", chrome_options = options)\n",
        "\n",
        "#usphonebook\n",
        "import requests\n",
        "from bs4 import BeautifulSoup\n",
        "\n",
        "#general\n",
        "import pandas as pd\n",
        "import numpy as np\n"
      ]
    },
    {
      "cell_type": "code",
      "execution_count": null,
      "metadata": {
        "id": "EpbR6aiXwsaD"
      },
      "outputs": [],
      "source": [
        "#@title search_from_voter()\n",
        "class search_from_voter():\n",
        "  def __init__(self, person, voter):\n",
        "    self.person = person\n",
        "    self.voter = voter\n",
        "  \n",
        "  def find_rel_by_address_or_surname(self):\n",
        "    relatives = np.array([])\n",
        "\n",
        "    relative = self.voter[((self.voter.RESIDENTIAL_ADDRESS1 == self.person.RESIDENTIAL_ADDRESS1) | (self.voter.LAST_NAME == self.person.LAST_NAME) ) & (self.voter.SOS_VOTERID != self.person.SOS_VOTERID)].to_numpy()\n",
        "\n",
        "    for i in range(relative.shape[0]):\n",
        "      relatives = np.append(relatives, [self.person.SOS_VOTERID, relative[i][0]], axis=0)\n",
        "\n",
        "    relatives = np.reshape(relatives, (-1, 2))\n",
        "    return relatives\n"
      ]
    },
    {
      "cell_type": "code",
      "execution_count": null,
      "metadata": {
        "id": "3JCC4yN-30Yk"
      },
      "outputs": [],
      "source": [
        "#@title search_from_property\n",
        "class search_from_property():\n",
        "  def __init__(self, address):\n",
        "    self.address = address\n",
        "  \n",
        "  def find_property_features(self):\n",
        "    result_dict = {\n",
        "        'names': [],\n",
        "        'residential_class': []\n",
        "    }\n",
        "    #naviagate to housing website\n",
        "    driver.get('https://myplace.cuyahogacounty.us/')\n",
        "\n",
        "    #select the search by address button\n",
        "    driver.find_element_by_id(\"Address\").click()\n",
        "    \n",
        "    #find and enter address into search bar\n",
        "    element = driver.find_element(By.ID,\"txtData\")\n",
        "    element.send_keys(self.address)\n",
        "    element.send_keys(Keys.ENTER)\n",
        "    \n",
        "    time.sleep(0.6)\n",
        "    search_results = driver.find_element(By.XPATH, \"//button[text()='Search Results']\")\n",
        "    if(search_results.is_displayed()):\n",
        "        search_results.click()\n",
        "    results = driver.find_element(By.ID, 'AddressInfo')\n",
        "    text_elements = []\n",
        "    for val in results.find_elements(By.CLASS_NAME, \"backgroundzebra\"):\n",
        "        text_elements.append(val.text)\n",
        "    number_of_results = int(len(text_elements)/6)\n",
        "\n",
        "    for i in range(number_of_results):\n",
        "        result_dict['names'].append(text_elements[i*6 + 1])\n",
        "        parcel_btn = driver.find_element(By.ID, f\"{i}\")\n",
        "        time.sleep(0.6)\n",
        "        parcel_btn.click()\n",
        "        time.sleep(0.6)\n",
        "        driver.find_element(By.ID, f\"btnGeneralInfo\").click()\n",
        "        time.sleep(0.6)\n",
        "        tmp = driver.find_elements(By.CLASS_NAME, \"dataBody\")\n",
        "        #print(tmp[0].text.splitlines())\n",
        "        result_dict['residential_class'].append(tmp[0].text.splitlines()[10])\n",
        "            \n",
        "        driver.execute_script(\"window.history.go(-1)\") \n",
        "    \n",
        "    first_names, last_names = [], []\n",
        "    for name in result_dict['names']:\n",
        "      if(not name):\n",
        "        first_names.append(None)\n",
        "        last_names.append(None)\n",
        "      else:\n",
        "        first_name, last_name = filter_name(name)\n",
        "        first_names.extend(first_name)\n",
        "        last_names.extend(last_name)\n",
        "\n",
        "    result_dict['first_name'] = first_names\n",
        "    result_dict['last_name'] = last_names\n",
        "    result_dict['residential_class'] = result_dict['residential_class'] * 2\n",
        "    return result_dict\n",
        "\n",
        "def filter_name(name):\n",
        "  print(name)\n",
        "  if(name.endswith(',')):\n",
        "    name = name.rstrip(',')\n",
        "  if('LLC'in name.upper()):\n",
        "    return [None], [None]\n",
        "  if(',' not in name):\n",
        "    name = name.split(' ')[0] + ',' + \" \".join(name.split(' ')[1:])\n",
        "  if('&' in name):\n",
        "    last_name_1 = name.split(',')[0]\n",
        "    first_name_1 = name.split(',')[1].split('&')[0]\n",
        "\n",
        "    if(len(name.split(',')) > 2):\n",
        "      last_name_2 = name.split('&')[1].split(',')[0]\n",
        "      first_name_2 = name.split('&')[1].split(',')[1]\n",
        "\n",
        "    else:\n",
        "      last_name_2 = last_name_1\n",
        "      first_name_2 = name.split('&')[1]\n",
        "      \n",
        "    return [first_name_1.strip(), first_name_2.strip()], [last_name_1, last_name_2]\n",
        "\n",
        "  elif(',' in name):\n",
        "    first_name = name.split(',')[-1]\n",
        "    last_name = name.split(',')[0]\n",
        "\n",
        "  else:\n",
        "    first_name = name.split(' ')[1]\n",
        "    last_name = name.split(' ')[0]\n",
        "\n",
        "  return [first_name], [last_name]\n"
      ]
    },
    {
      "cell_type": "code",
      "execution_count": null,
      "metadata": {
        "id": "cqLGHjSA2b5P"
      },
      "outputs": [],
      "source": [
        "#@title search_from_USPhoneBook\n",
        "class search_from_USPhoneBook():\n",
        "  def __init__(self, person):\n",
        "    self.person = person\n",
        "\n",
        "  def find_rel_by_usphonebook(self):\n",
        "    relatives = self.find_relatives(self.person.FIRST_NAME, self.person.LAST_NAME, self.person.RESIDENTIAL_CITY, 'ohio', self.person.Age)\n",
        "    return relatives\n",
        "\n",
        "  def find_relatives(self, fname, lname, city, state, true_age):\n",
        "    fname = str(fname).lower()\n",
        "    lname = str(lname).lower()\n",
        "    city = str(city).lower()\n",
        "    state = str(state).lower()\n",
        "\n",
        "    url = 'https://www.usphonebook.com/'\n",
        "    \n",
        "    URL = url + fname + '-' + lname + '/' + state + '/' + city\n",
        "    header = {\n",
        "          \"User-Agent\": \"Mozilla/5.0 (Windows NT 10.0; Win64; x64) AppleWebKit/537.36 (KHTML, like Gecko) Chrome/99.0.4844.82 Safari/537.360\",\n",
        "          'referrer': 'https://google.com'\n",
        "          }\n",
        "    page = requests.get(URL, headers=header)\n",
        "    \n",
        "    relatives = []\n",
        "\n",
        "    if page.status_code != 200:\n",
        "      relatives.append(['JOHN', 'DOE'])\n",
        "      relatives = np.array(relatives)\n",
        "      return relatives\n",
        "\n",
        "    soup = BeautifulSoup(page.content, \"html.parser\")\n",
        "\n",
        "    results = soup.find_all(\"div\", {\"class\": \"success-wrapper-block\"})\n",
        "\n",
        "\n",
        "\n",
        "    for res in results:\n",
        "      # extract age\n",
        "      person = str(res.find(\"span\").next_sibling)\n",
        "      age=\"\"\n",
        "      for m in person:\n",
        "        if m.isdigit():\n",
        "            age+=m\n",
        "\n",
        "      # check if the age is correct\n",
        "      if len(age) > 0:\n",
        "        if int(age) == true_age:\n",
        "          for relative in res.findAll(\"a\", class_=\"ls_success-blue-link\"):\n",
        "            relatives.append(relative.find(\"span\").text)\n",
        "        if len(relatives) == 0:\n",
        "          if int(age) == true_age-1:\n",
        "            for relative in res.findAll(\"a\", class_=\"ls_success-blue-link\"):\n",
        "              relatives.append(relative.find(\"span\").text)\n",
        "              \n",
        "    # if no ages match, then pick the first result\n",
        "    if len(relatives) == 0:\n",
        "      for relative in results[0].findAll(\"a\", class_=\"ls_success-blue-link\"):\n",
        "            relatives.append(relative.find(\"span\").text)\n",
        "\n",
        "    for i in range(len(relatives)):\n",
        "      relatives[i] = relatives[i].split()\n",
        "      for j in range(len(relatives[i])):\n",
        "        relatives[i][j] = relatives[i][j].upper()\n",
        "    \n",
        "    if len(relatives) == 0:\n",
        "      relatives.append(['JOHN', 'DOE'])\n",
        "\n",
        "    relatives = np.array(relatives)\n",
        "    \n",
        "    return relatives"
      ]
    },
    {
      "cell_type": "code",
      "execution_count": null,
      "metadata": {
        "id": "f-f-EJVWLsOX"
      },
      "outputs": [],
      "source": [
        "def update_property_res(person, property_res):\n",
        "  relatives_from_property = np.array([])\n",
        "  for i in range(len(property_res['last_name'])):\n",
        "    if isinstance(property_res['first_name'][i], type(None)):\n",
        "      property_res['first_name'][i] = 'JOHN'\n",
        "    if isinstance(property_res['last_name'][i], type(None)):\n",
        "      property_res['last_name'][i] = 'DOE'\n",
        "\n",
        "    if person.LAST_NAME == property_res['last_name'][i]:\n",
        "      relatives_from_property = np.append(relatives_from_property, [property_res['first_name'][i].split()[0], property_res['last_name'][i]])\n",
        "    elif property_res['residential_class'][i] == '5100 - 1-FAMILY PLATTED LOT':\n",
        "      relatives_from_property = np.append(relatives_from_property, [property_res['first_name'][i].split()[0], property_res['last_name'][i]])\n",
        "  relatives_from_property = np.reshape(relatives_from_property, (-1, 2))\n",
        "  return relatives_from_property"
      ]
    },
    {
      "cell_type": "code",
      "execution_count": null,
      "metadata": {
        "id": "HFR8hSp246XO"
      },
      "outputs": [],
      "source": [
        "if __name__==\"__main__\":\n",
        "  df_sample = pd.read_csv('sample_data.csv')\n",
        "  df_voter = pd.read_csv('voter.csv')\n",
        "  df_sample['RESIDENTIAL_CITY'] = df_sample.RESIDENTIAL_CITY.replace(' ', '-', regex=True)\n",
        "  df_sample['LAST_NAME'] = df_sample.LAST_NAME.replace(' ', '-', regex=True)\n",
        "\n",
        "  # n_people = df_sample.shape[0]\n",
        "  n_people = 100\n",
        "  res = np.array([])\n",
        "  for i in range(n_people):\n",
        "    i = i + 200\n",
        "    person = df_sample.iloc[i, :]\n",
        "    # from voter\n",
        "    voter_searcher = search_from_voter(person, df_voter)\n",
        "    voter_res = voter_searcher.find_rel_by_address_or_surname()\n",
        "\n",
        "    # from property\n",
        "    property_searcher = search_from_property(person.RESIDENTIAL_ADDRESS1)\n",
        "    res_from_property = property_searcher.find_property_features()\n",
        "    property_res = update_property_res(person, res_from_property)\n",
        "\n",
        "    # from usphonebook\n",
        "    usphonebook_searcher = search_from_USPhoneBook(person)\n",
        "    usphonebook_res = usphonebook_searcher.find_rel_by_usphonebook()\n",
        "\n",
        "\n",
        "    # prepare for inner join to check overlaps\n",
        "    df_voter_res = df_voter[df_voter.SOS_VOTERID.isin(voter_res[:,1])]\n",
        "    df_property_res = pd.DataFrame(property_res)\n",
        "    df_property_res.columns=['FIRST_NAME', 'LAST_NAME']\n",
        "    df_usphone_res = pd.DataFrame(usphonebook_res)\n",
        "    df_usphone_res.columns=['FIRST_NAME', 'LAST_NAME']\n",
        "\n",
        "\n",
        "    # voter join property\n",
        "    vp_join = df_voter_res.merge(df_property_res, how='inner', on=['FIRST_NAME', 'LAST_NAME'])\n",
        "    # voter join usphonebook\n",
        "    vu_join = df_voter_res.merge(df_usphone_res, how='inner', on=['FIRST_NAME', 'LAST_NAME'])\n",
        "    # property join usphonebook\n",
        "    pu_join = df_property_res.merge(df_usphone_res, how='inner', on=['FIRST_NAME', 'LAST_NAME'])\n",
        "    # all three\n",
        "    vpu_join = df_voter_res.merge(df_property_res, how='inner', on=['FIRST_NAME', 'LAST_NAME']).merge(df_usphone_res, how='inner', on=['FIRST_NAME', 'LAST_NAME'])\n",
        "\n",
        "    res = np.append(res, [person.FIRST_NAME, person.LAST_NAME, voter_res.shape[0], property_res.shape[0], usphonebook_res.shape[0], vp_join.shape[0], vu_join.shape[0], pu_join.shape[0], vpu_join.shape[0]], axis=0)\n",
        "  # end for loop\n",
        "\n",
        "  # reshape res arr\n",
        "  res = np.reshape(res, (n_people, -1))"
      ]
    },
    {
      "cell_type": "code",
      "execution_count": null,
      "metadata": {
        "id": "lGZktH8Voigy"
      },
      "outputs": [],
      "source": [
        "df_res = pd.DataFrame(res)\n",
        "df_res.columns = ['FIRST_NAME', 'LAST_NAME', 'from_voter', 'from_property', 'from_usphonebook', 'voter_join_property', 'voter_join_usphonebook', 'property_join_usphonebook', 'join_all']"
      ]
    },
    {
      "cell_type": "markdown",
      "metadata": {
        "id": "KZtBzVEspuXG"
      },
      "source": [
        "# Outer Join"
      ]
    },
    {
      "cell_type": "code",
      "execution_count": null,
      "metadata": {
        "id": "bwkh-aueyM27"
      },
      "outputs": [],
      "source": [
        "def find_metrics(y_pred, y_true):\n",
        "  tp = pd.merge(y_pred, y_true, how='inner', on=['SOS_VOTERID'])\n",
        "  fp = y_pred[~y_pred.SOS_VOTERID.isin(tp.SOS_VOTERID)]\n",
        "  fn = y_true[~y_true.SOS_VOTERID.isin(tp.SOS_VOTERID)]\n",
        "  return tp.shape[0], fp.shape[0], fn.shape[0]"
      ]
    },
    {
      "cell_type": "code",
      "execution_count": null,
      "metadata": {
        "colab": {
          "base_uri": "https://localhost:8080/"
        },
        "id": "ZTSg6IpEOcTq",
        "outputId": "6956de01-a070-40e9-b866-a3f34607042c"
      },
      "outputs": [
        {
          "output_type": "stream",
          "name": "stderr",
          "text": [
            "/usr/local/lib/python3.7/dist-packages/ipykernel_launcher.py:15: DeprecationWarning: find_element_by_* commands are deprecated. Please use find_element() instead\n",
            "  from ipykernel import kernelapp as app\n"
          ]
        }
      ],
      "source": [
        "#tp, fp, fn\n",
        "parent_metrics = np.array([0, 0, 0])\n",
        "child_metrics = np.array([0, 0, 0])\n",
        "spouse_metrics = np.array([0, 0, 0])\n",
        "sibling_metrics = np.array([0, 0, 0])\n",
        "\n",
        "for i in range(100):\n",
        "  person = df_sample.iloc[i, :]\n",
        "\n",
        "  #search info\n",
        "  voter_searcher = search_from_voter(person, df_voter)\n",
        "  voter_res = voter_searcher.find_rel_by_address_or_surname()\n",
        "\n",
        "  property_searcher = search_from_property(person.RESIDENTIAL_ADDRESS1)\n",
        "  property_res = property_searcher.find_property_features()\n",
        "  property_res = update_property_res(person, property_res)\n",
        "\n",
        "  usphonebook_searcher = search_from_USPhoneBook(person)\n",
        "  usphonebook_res = usphonebook_searcher.find_rel_by_usphonebook()\n",
        "\n",
        "  #convert type\n",
        "  df_voter_res = df_voter[df_voter.SOS_VOTERID.isin(voter_res[:,1])]\n",
        "\n",
        "  df_property_res = pd.DataFrame(property_res)\n",
        "  df_property_res.columns=['FIRST_NAME', 'LAST_NAME']\n",
        "\n",
        "  df_usphone_res = pd.DataFrame(usphonebook_res)\n",
        "  df_usphone_res.columns=['FIRST_NAME', 'LAST_NAME']\n",
        "\n",
        "  #search for details from voting\n",
        "  df_property_res_detail = df_voter.merge(df_property_res, how='inner', on=['FIRST_NAME', 'LAST_NAME'])\n",
        "  relatives = pd.concat([df_voter_res, df_property_res_detail]).reset_index(drop=True)\n",
        "  relatives_true = df_voter.merge(df_usphone_res, how='inner', on=['FIRST_NAME', 'LAST_NAME']).reset_index(drop=True)\n",
        "\n",
        "  #rules\n",
        "  #parent appropiate gender, age difference > 20 and < 60\n",
        "  parent_pred = relatives[(relatives.Age >= person.Age + 20) & (relatives.Age <= person.Age + 60) & (relatives.Registration_age>0)]\n",
        "  parent_true = relatives_true[(relatives_true.Age >= person.Age + 20) & (relatives_true.Age <= person.Age + 60)]\n",
        "\n",
        "  #child age difference > 20\n",
        "  child_pred = relatives[relatives.Age <= person.Age -20]\n",
        "  child_true = relatives_true[relatives_true.Age <= person.Age -20]\n",
        "\n",
        "  #spouse if opposite gender and age differnece < 20 and live in same address\n",
        "  spouse_pred = relatives[(relatives.Gender != person.Gender) & (np.absolute(relatives.Age - person.Age) <= 20) & (relatives.RESIDENTIAL_ADDRESS1 == person.RESIDENTIAL_ADDRESS1)]\n",
        "  spouse_true = relatives_true[(relatives_true.Gender != person.Gender) & (np.absolute(relatives_true.Age - person.Age) <= 20) & (relatives_true.RESIDENTIAL_ADDRESS1 == person.RESIDENTIAL_ADDRESS1)]\n",
        "\n",
        "  #sibling if age differnece < 20 and live in different address\n",
        "  sibling_pred = relatives[(np.absolute(relatives.Age - person.Age) <= 20) & (relatives.RESIDENTIAL_ADDRESS1 != person.RESIDENTIAL_ADDRESS1) & (relatives.Registration_age>0)]\n",
        "  sibling_true = relatives_true[(np.absolute(relatives_true.Age - person.Age) <= 20) & (relatives_true.RESIDENTIAL_ADDRESS1 != person.RESIDENTIAL_ADDRESS1)]\n",
        "\n",
        "  #calculate metrics\n",
        "  parent_metrics += find_metrics(parent_pred, parent_true)\n",
        "  child_metrics += find_metrics(child_pred, child_true)\n",
        "  spouse_metrics += find_metrics(spouse_pred, spouse_true)\n",
        "  sibling_metrics += find_metrics(sibling_pred, sibling_true)"
      ]
    },
    {
      "cell_type": "code",
      "execution_count": null,
      "metadata": {
        "colab": {
          "base_uri": "https://localhost:8080/"
        },
        "id": "Czg7Jvgczcde",
        "outputId": "465b147b-0e46-44cc-be8a-89cd6ca16f59"
      },
      "outputs": [
        {
          "output_type": "execute_result",
          "data": {
            "text/plain": [
              "array([  6, 187,  26])"
            ]
          },
          "metadata": {},
          "execution_count": 34
        }
      ],
      "source": [
        "parent_metrics"
      ]
    },
    {
      "cell_type": "code",
      "execution_count": null,
      "metadata": {
        "colab": {
          "base_uri": "https://localhost:8080/"
        },
        "id": "Y7blbfTl2mwF",
        "outputId": "dd773fd1-5af3-46eb-912b-f207597db32c"
      },
      "outputs": [
        {
          "output_type": "execute_result",
          "data": {
            "text/plain": [
              "array([ 2, 20,  5])"
            ]
          },
          "metadata": {},
          "execution_count": 35
        }
      ],
      "source": [
        "child_metrics"
      ]
    },
    {
      "cell_type": "code",
      "execution_count": null,
      "metadata": {
        "colab": {
          "base_uri": "https://localhost:8080/"
        },
        "id": "vdjvnePH2nRe",
        "outputId": "096d5618-232f-4315-e134-0de182d138ab"
      },
      "outputs": [
        {
          "output_type": "execute_result",
          "data": {
            "text/plain": [
              "array([6, 2, 0])"
            ]
          },
          "metadata": {},
          "execution_count": 36
        }
      ],
      "source": [
        "spouse_metrics"
      ]
    },
    {
      "cell_type": "code",
      "execution_count": null,
      "metadata": {
        "colab": {
          "base_uri": "https://localhost:8080/"
        },
        "id": "nVcPpu_n2ouR",
        "outputId": "38afb8d3-fed5-4517-e48e-3849573b34a7"
      },
      "outputs": [
        {
          "output_type": "execute_result",
          "data": {
            "text/plain": [
              "array([ 11, 466,  14])"
            ]
          },
          "metadata": {},
          "execution_count": 37
        }
      ],
      "source": [
        "sibling_metrics"
      ]
    }
  ],
  "metadata": {
    "colab": {
      "collapsed_sections": [],
      "name": "Search_and_Predict.ipynb",
      "provenance": []
    },
    "kernelspec": {
      "display_name": "Python 3",
      "name": "python3"
    },
    "language_info": {
      "name": "python"
    }
  },
  "nbformat": 4,
  "nbformat_minor": 0
}